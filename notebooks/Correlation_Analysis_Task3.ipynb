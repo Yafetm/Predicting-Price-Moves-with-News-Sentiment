{
 "cells": [
  {
   "cell_type": "code",
   "execution_count": 5,
   "id": "ce47f876-68ab-4446-9b34-b96de8d2dd84",
   "metadata": {},
   "outputs": [
    {
     "name": "stdout",
     "output_type": "stream",
     "text": [
      "News Data Preview:\n",
      "      unnamed: 0                                           headline  \\\n",
      "6680        7120  Tech Stocks And FAANGS Strong Again To Start D...   \n",
      "6681        7121      10 Biggest Price Target Changes For Wednesday   \n",
      "6682        7122  Benzinga Pro's Top 5 Stocks To Watch For Wed.,...   \n",
      "6683        7123  Deutsche Bank Maintains Buy on Apple, Raises P...   \n",
      "6684        7124  Apple To Let Users Trade In Their Mac Computer...   \n",
      "\n",
      "                                                    url          publisher  \\\n",
      "6680  https://www.benzinga.com/government/20/06/1622...         JJ Kinahan   \n",
      "6681  https://www.benzinga.com/analyst-ratings/price...         Lisa Levin   \n",
      "6682  https://www.benzinga.com/short-sellers/20/06/1...  Benzinga Newsdesk   \n",
      "6683  https://www.benzinga.com/news/20/06/16219873/d...  Benzinga Newsdesk   \n",
      "6684  https://www.benzinga.com/news/20/06/16218697/a...      Neer Varshney   \n",
      "\n",
      "                          date stock   date_only  \n",
      "6680 2020-06-10 11:33:26-04:00  AAPL  2020-06-10  \n",
      "6681 2020-06-10 08:14:08-04:00  AAPL  2020-06-10  \n",
      "6682 2020-06-10 07:53:47-04:00  AAPL  2020-06-10  \n",
      "6683 2020-06-10 07:19:25-04:00  AAPL  2020-06-10  \n",
      "6684 2020-06-10 06:27:11-04:00  AAPL  2020-06-10  \n",
      "\n",
      "AAPL Stock Data Preview:\n",
      "        date      open      high       low     close  adj close     volume  \\\n",
      "0 1980-12-12  0.128348  0.128906  0.128348  0.128348   0.098943  469033600   \n",
      "1 1980-12-15  0.122210  0.122210  0.121652  0.121652   0.093781  175884800   \n",
      "2 1980-12-16  0.113281  0.113281  0.112723  0.112723   0.086898  105728000   \n",
      "3 1980-12-17  0.115513  0.116071  0.115513  0.115513   0.089049   86441600   \n",
      "4 1980-12-18  0.118862  0.119420  0.118862  0.118862   0.091630   73449600   \n",
      "\n",
      "   dividends  stock splits   date_only  \n",
      "0        0.0           0.0  1980-12-12  \n",
      "1        0.0           0.0  1980-12-15  \n",
      "2        0.0           0.0  1980-12-16  \n",
      "3        0.0           0.0  1980-12-17  \n",
      "4        0.0           0.0  1980-12-18  \n"
     ]
    }
   ],
   "source": [
    "import pandas as pd\n",
    "import numpy as np\n",
    "import matplotlib.pyplot as plt\n",
    "from vaderSentiment.vaderSentiment import SentimentIntensityAnalyzer\n",
    "from scipy.stats import pearsonr\n",
    "\n",
    "# Load news data\n",
    "news_df = pd.read_csv('../Data/raw_analyst_ratings.csv')\n",
    "news_df.columns = news_df.columns.str.lower()\n",
    "\n",
    "# Convert 'date' to datetime\n",
    "news_df['date'] = pd.to_datetime(news_df['date'], errors='coerce')\n",
    "\n",
    "# Drop rows with invalid/missing dates\n",
    "news_df = news_df.dropna(subset=['date'])\n",
    "\n",
    "# Handle timezone: localize only if not already tz-aware\n",
    "if news_df['date'].dt.tz is None:\n",
    "    news_df['date'] = news_df['date'].dt.tz_localize('UTC')\n",
    "\n",
    "# Convert to New York timezone\n",
    "news_df['date'] = news_df['date'].dt.tz_convert('America/New_York')\n",
    "\n",
    "# Extract date only\n",
    "news_df['date_only'] = news_df['date'].dt.date\n",
    "\n",
    "# Load stock data\n",
    "stocks = ['AAPL', 'AMZN', 'GOOG', 'META', 'MSFT', 'NVDA', 'TSLA']\n",
    "stock_data = {}\n",
    "\n",
    "for stock in stocks:\n",
    "    df = pd.read_csv(f'../Data/yfinance_data/{stock}_historical_data.csv')\n",
    "    df.columns = df.columns.str.lower()\n",
    "    df['date'] = pd.to_datetime(df['date'], errors='coerce')\n",
    "    df = df.dropna(subset=['date'])  # remove any malformed date rows\n",
    "    df['date_only'] = df['date'].dt.date\n",
    "    stock_data[stock] = df\n",
    "\n",
    "# Filter news for relevant stocks\n",
    "news_df = news_df[news_df['stock'].isin(stocks)]\n",
    "\n",
    "# Print previews\n",
    "print(\"News Data Preview:\")\n",
    "print(news_df.head())\n",
    "\n",
    "print(\"\\nAAPL Stock Data Preview:\")\n",
    "print(stock_data['AAPL'].head())\n"
   ]
  },
  {
   "cell_type": "code",
   "execution_count": 7,
   "id": "da2e35c0-5b16-4c0a-af84-6adb48328006",
   "metadata": {},
   "outputs": [
    {
     "name": "stdout",
     "output_type": "stream",
     "text": [
      "Daily Sentiment Scores Preview:\n",
      "  stock   date_only  sentiment\n",
      "0  AAPL  2020-06-09   0.246900\n",
      "1  AAPL  2020-06-10   0.198850\n",
      "2  AMZN  2020-06-09   0.077775\n",
      "3  AMZN  2020-06-10   0.391233\n",
      "4  GOOG  2020-06-04   0.000000\n"
     ]
    }
   ],
   "source": [
    "# Initialize VADER\n",
    "analyzer = SentimentIntensityAnalyzer()\n",
    "\n",
    "# Calculate sentiment scores\n",
    "news_df['sentiment'] = news_df['headline'].apply(\n",
    "    lambda x: analyzer.polarity_scores(x)['compound']\n",
    ")\n",
    "\n",
    "# Aggregate daily sentiment scores per stock\n",
    "daily_sentiment = news_df.groupby(['stock', 'date_only'])['sentiment'].mean().reset_index()\n",
    "print(\"Daily Sentiment Scores Preview:\")\n",
    "print(daily_sentiment.head())"
   ]
  },
  {
   "cell_type": "code",
   "execution_count": 9,
   "id": "5b53cd52-21c4-4e8b-bf00-ef66a4ad58bc",
   "metadata": {},
   "outputs": [
    {
     "name": "stdout",
     "output_type": "stream",
     "text": [
      "Daily Returns Preview:\n",
      "    date_only  daily_return stock\n",
      "1  1980-12-15     -5.217061  AAPL\n",
      "2  1980-12-16     -7.339788  AAPL\n",
      "3  1980-12-17      2.475091  AAPL\n",
      "4  1980-12-18      2.899246  AAPL\n",
      "5  1980-12-19      6.102867  AAPL\n"
     ]
    }
   ],
   "source": [
    "# Calculate daily returns for each stock\n",
    "for stock in stocks:\n",
    "    df = stock_data[stock]\n",
    "    df['daily_return'] = df['close'].pct_change() * 100  # Percentage change\n",
    "    stock_data[stock] = df\n",
    "\n",
    "# Extract relevant columns (date_only, daily_return) into a single DataFrame\n",
    "returns_df = pd.concat(\n",
    "    [stock_data[stock][['date_only', 'daily_return']].assign(stock=stock)\n",
    "     for stock in stocks]\n",
    ")\n",
    "returns_df = returns_df.dropna()\n",
    "print(\"Daily Returns Preview:\")\n",
    "print(returns_df.head())"
   ]
  },
  {
   "cell_type": "code",
   "execution_count": 11,
   "id": "8bc7b85f-2bed-40c9-8b84-f50fbde8691b",
   "metadata": {},
   "outputs": [
    {
     "name": "stdout",
     "output_type": "stream",
     "text": [
      "Insufficient data for META correlation\n",
      "Insufficient data for MSFT correlation\n",
      "Insufficient data for TSLA correlation\n",
      "Correlation Coefficients:\n",
      "AAPL: 1.0\n",
      "AMZN: -1.0\n",
      "GOOG: -0.23437112074779948\n",
      "META: None\n",
      "MSFT: None\n",
      "NVDA: 0.5227409232936001\n",
      "TSLA: None\n"
     ]
    }
   ],
   "source": [
    "# Merge sentiment and returns\n",
    "merged_df = pd.merge(\n",
    "    daily_sentiment,\n",
    "    returns_df,\n",
    "    on=['stock', 'date_only'],\n",
    "    how='inner'\n",
    ")\n",
    "\n",
    "# Calculate correlation per stock\n",
    "correlations = {}\n",
    "for stock in stocks:\n",
    "    stock_data = merged_df[merged_df['stock'] == stock]\n",
    "    if len(stock_data) > 1:  # Need at least 2 data points for correlation\n",
    "        corr, _ = pearsonr(stock_data['sentiment'], stock_data['daily_return'])\n",
    "        correlations[stock] = corr\n",
    "    else:\n",
    "        correlations[stock] = None\n",
    "        print(f\"Insufficient data for {stock} correlation\")\n",
    "\n",
    "print(\"Correlation Coefficients:\")\n",
    "for stock, corr in correlations.items():\n",
    "    print(f\"{stock}: {corr}\")"
   ]
  },
  {
   "cell_type": "code",
   "execution_count": 13,
   "id": "9366f04f-5fb2-4222-bf2e-adfff9b6efdd",
   "metadata": {},
   "outputs": [
    {
     "data": {
      "image/png": "[encoded data removed]",
      "text/plain": [
       "<Figure size 1000x600 with 1 Axes>"
      ]
     },
     "metadata": {},
     "output_type": "display_data"
    }
   ],
   "source": [
    "# Scatter plot for AAPL\n",
    "aapl_data = merged_df[merged_df['stock'] == 'AAPL']\n",
    "plt.figure(figsize=(10, 6))\n",
    "plt.scatter(aapl_data['sentiment'], aapl_data['daily_return'], alpha=0.5)\n",
    "plt.title('AAPL Daily Sentiment vs. Daily Returns')\n",
    "plt.xlabel('Sentiment Score (VADER)')\n",
    "plt.ylabel('Daily Return (%)')\n",
    "plt.savefig('../notebooks/aapl_sentiment_vs_returns.png')\n",
    "plt.show()"
   ]
  },
  {
   "cell_type": "code",
   "execution_count": 15,
   "id": "7395e8de-a553-4aa9-be78-42d2c9840acb",
   "metadata": {},
   "outputs": [
    {
     "name": "stdout",
     "output_type": "stream",
     "text": [
      "Sentiment Score Statistics:\n",
      "count    50.000000\n",
      "mean      0.204638\n",
      "std       0.355587\n",
      "min      -0.840200\n",
      "25%       0.000000\n",
      "50%       0.114750\n",
      "75%       0.509450\n",
      "max       0.817600\n",
      "Name: sentiment, dtype: float64\n",
      "\n",
      "Sentiment Score Bins:\n",
      "(-0.0113, 0.154]     22\n",
      "(0.486, 0.652]        9\n",
      "(0.154, 0.32]         6\n",
      "(0.32, 0.486]         5\n",
      "(0.652, 0.818]        5\n",
      "(-0.843, -0.674]      2\n",
      "(-0.674, -0.509]      1\n",
      "(-0.177, -0.0113]     0\n",
      "(-0.509, -0.343]      0\n",
      "(-0.343, -0.177]      0\n",
      "Name: count, dtype: int64\n",
      "\n",
      "News Articles per Stock:\n",
      "stock\n",
      "AAPL    10\n",
      "AMZN    10\n",
      "GOOG    10\n",
      "NVDA    10\n",
      "TSLA    10\n",
      "Name: count, dtype: int64\n",
      "\n",
      "Correlation Coefficients and P-values:\n",
      "AAPL: Correlation = 1.0, P-value = 1.0\n",
      "AMZN: Correlation = -1.0, P-value = 1.0\n",
      "GOOG: Correlation = -0.23437112074779948, P-value = 0.7043443244448068\n",
      "META: Correlation = None, P-value = None\n",
      "MSFT: Correlation = None, P-value = None\n",
      "NVDA: Correlation = 0.5227409232936001, P-value = 0.4772590767064\n",
      "TSLA: Correlation = None, P-value = None\n"
     ]
    }
   ],
   "source": [
    "print(\"Sentiment Score Statistics:\")\n",
    "print(news_df['sentiment'].describe())\n",
    "print(\"\\nSentiment Score Bins:\")\n",
    "print(news_df['sentiment'].value_counts(bins=10))\n",
    "\n",
    "print(\"\\nNews Articles per Stock:\")\n",
    "print(news_df['stock'].value_counts())\n",
    "\n",
    "from scipy.stats import pearsonr\n",
    "correlations = {}\n",
    "for stock in stocks:\n",
    "    stock_data = merged_df[merged_df['stock'] == stock]\n",
    "    if len(stock_data) > 1:\n",
    "        corr, p_value = pearsonr(stock_data['sentiment'], stock_data['daily_return'])\n",
    "        correlations[stock] = (corr, p_value)\n",
    "    else:\n",
    "        correlations[stock] = (None, None)\n",
    "print(\"\\nCorrelation Coefficients and P-values:\")\n",
    "for stock, (corr, p_value) in correlations.items():\n",
    "    print(f\"{stock}: Correlation = {corr}, P-value = {p_value}\")"
   ]
  },
  {
   "cell_type": "code",
   "execution_count": 17,
   "id": "0a449203-e564-47ef-b4fa-3bd663a9f95c",
   "metadata": {},
   "outputs": [
    {
     "name": "stdout",
     "output_type": "stream",
     "text": [
      "\n",
      "Daily Return Statistics (%):\n",
      "count    45421.000000\n",
      "mean         0.137717\n",
      "std          2.923803\n",
      "min        -51.869199\n",
      "25%         -1.155768\n",
      "50%          0.053622\n",
      "75%          1.375422\n",
      "max         42.414762\n",
      "Name: daily_return, dtype: float64\n"
     ]
    }
   ],
   "source": [
    "print(\"\\nDaily Return Statistics (%):\")\n",
    "print(returns_df['daily_return'].describe())"
   ]
  },
  {
   "cell_type": "code",
   "execution_count": null,
   "id": "2ffd767c-2d8b-4f8f-9459-c17c9d5f655d",
   "metadata": {},
   "outputs": [],
   "source": []
  }
 ],
 "metadata": {
  "kernelspec": {
   "display_name": "Python (tacademy_w1)",
   "language": "python",
   "name": "tacademy_w1"
  },
  "language_info": {
   "codemirror_mode": {
    "name": "ipython",
    "version": 3
   },
   "file_extension": ".py",
   "mimetype": "text/x-python",
   "name": "python",
   "nbconvert_exporter": "python",
   "pygments_lexer": "ipython3",
   "version": "3.10.0"
  }
 },
 "nbformat": 4,
 "nbformat_minor": 5
}
